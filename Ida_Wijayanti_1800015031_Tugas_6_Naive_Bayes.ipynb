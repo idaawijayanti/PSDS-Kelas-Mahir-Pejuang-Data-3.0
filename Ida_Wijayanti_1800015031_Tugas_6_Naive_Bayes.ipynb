{
  "nbformat": 4,
  "nbformat_minor": 0,
  "metadata": {
    "colab": {
      "name": "Ida_Wijayanti_1800015031_Tugas_6_Naive_Bayes.ipynb",
      "provenance": [],
      "include_colab_link": true
    },
    "kernelspec": {
      "name": "python3",
      "display_name": "Python 3"
    },
    "language_info": {
      "name": "python"
    }
  },
  "cells": [
    {
      "cell_type": "markdown",
      "metadata": {
        "id": "view-in-github",
        "colab_type": "text"
      },
      "source": [
        "<a href=\"https://colab.research.google.com/github/idaawijayanti/PSDS-Kelas-Mahir-Pejuang-Data-3.0/blob/main/Ida_Wijayanti_1800015031_Tugas_6_Naive_Bayes.ipynb\" target=\"_parent\"><img src=\"https://colab.research.google.com/assets/colab-badge.svg\" alt=\"Open In Colab\"/></a>"
      ]
    },
    {
      "cell_type": "markdown",
      "metadata": {
        "id": "cOD9xUI0v8dv"
      },
      "source": [
        "##**Pembukaan**"
      ]
    },
    {
      "cell_type": "markdown",
      "metadata": {
        "id": "O95rVz34wA44"
      },
      "source": [
        "######Assalamu'alaikum warahmatullahi wabarakatuh. Puji syukur kehadirat Allah Subhana Wata'ala atas limpahan Rahmat dan HidayahNya kepada kita semua. Sholawat serta salam senantiasa tercurah limpahkan kepada baginda Muhammad Rasulullah Salallahualaihiwassalam.\n",
        "\n",
        "Halo para **Pejuang Data**. Selamat berjumpa di pertemuan keenam Program Training **Algoritma Machine\n",
        "Learning** Kelas Mahir."
      ]
    },
    {
      "cell_type": "markdown",
      "metadata": {
        "id": "BXCWNfcIwG_h"
      },
      "source": [
        "####Pada pertemuan ini kamu akan belajar:\n",
        "\n",
        "\n",
        "\n",
        "\n",
        "*   Algoritma Naive Bayes\n",
        "*   Contoh Perhitungan Manual Algoritma Naive Bayes\n",
        "*   Naive Bayes Python From Scratch\n",
        "\n",
        "\n",
        "\n",
        "\n"
      ]
    },
    {
      "cell_type": "markdown",
      "metadata": {
        "id": "AGhjJ9agxC0x"
      },
      "source": [
        "##**Import Modul**"
      ]
    },
    {
      "cell_type": "code",
      "metadata": {
        "id": "p3tm4PpFW_pI"
      },
      "source": [
        "import pandas as pd\n",
        "import numpy as np\n",
        "import matplotlib.pyplot as plt\n",
        "import seaborn as sns\n",
        "sns.set_style(\"darkgrid\")"
      ],
      "execution_count": null,
      "outputs": []
    },
    {
      "cell_type": "markdown",
      "metadata": {
        "id": "jybr0KNIXbVW"
      },
      "source": [
        "##**Model Klasifikasi Naive Bayes**"
      ]
    },
    {
      "cell_type": "markdown",
      "metadata": {
        "id": "Nykf8kP4Xj4a"
      },
      "source": [
        "Model klasifikasi Naive Bayes merupakan model klasifikasi dengan dasar gagasan Teorema Bayes dengan asumsi semua variabel prediktornya(X) adalah saling independen. Model Naive Bayes mudah untuk dibangun. Model ini tidak memiliki estimasi parameter iteratif yang kompleks yang membuatnya cocok untuk data yanng sangat besar. Terlepas dari kesederhanaannya, model klasifikasi inisering kali bekerja dengan sangat baik dan banyak digunakan karena sering mengungguli metode klasifikasi yang lebih canggih. Contohnya pada klasifikasi sentimen pada dataset teks, klasifikasi email spam, dan klasifikasi dokumen."
      ]
    },
    {
      "cell_type": "markdown",
      "metadata": {
        "id": "ofBZBw2uymUS"
      },
      "source": [
        "##**Algoritma Naive Bayes**"
      ]
    },
    {
      "cell_type": "markdown",
      "metadata": {
        "id": "ZajyZBlyYHZu"
      },
      "source": [
        "Teorema Bayes menyajikan cara untuk menghitung probabilitas bersyarat(posterior) $P(Y=y\\mid X=(x_1, x_2,...,x_n))$, dari $P(Y=y), P(X=(x_1,x_2,...,x_3))$, dan $P(X=(x_1,x_2,...,x_3)\\mid Y=y)$. Model klasifikasi Naive Bayes mengasumsikan bahwa pengaruh suatu variabel prediktor $x$ pada kelas tertentu $c$ tidak bergantung pada nilai-nilai prediktor lainnya. Asumsi ini disebut sebagai **class conditional independence**."
      ]
    },
    {
      "cell_type": "markdown",
      "metadata": {
        "id": "kRSFzaVCasgH"
      },
      "source": [
        "![22.jpg](data:image/jpeg;base64,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)"
      ]
    },
    {
      "cell_type": "markdown",
      "metadata": {
        "id": "cn68aNbGazpF"
      },
      "source": [
        "*   P(Y|X) adalah probabilitas bersyarat (posterior) dari kelas(target) dengan suatu prediktor yang diketahui(attribut)\n",
        "*   P(Y) adalah probabilitas prior dari kelas\n",
        "*   P(X|Y) adalah likelihood yang merupakan probabilitas prediktor dengan kelas yang diketahui\n",
        "*   P(X) adalah probabilitas prior dari prediktor(atribut)\n",
        "\n"
      ]
    },
    {
      "cell_type": "markdown",
      "metadata": {
        "id": "xmz91_fpysOQ"
      },
      "source": [
        "##**Penghitungan Manual Metode Klasifikasi Naive Bayes Data Categorical**"
      ]
    },
    {
      "cell_type": "markdown",
      "metadata": {
        "id": "iPNOgi7vy3Sl"
      },
      "source": [
        "Misal kita memiliki dataset sebagai berikut:"
      ]
    },
    {
      "cell_type": "code",
      "metadata": {
        "colab": {
          "base_uri": "https://localhost:8080/",
          "height": 359
        },
        "id": "WUzhPJxvclNw",
        "outputId": "7722723d-726e-4f12-fe97-ac8695dc5ef7"
      },
      "source": [
        "df = pd.DataFrame({'x_1':[0,0,1,0,2,1,0,2,2,1],\n",
        "                  'x_2':[0,1,2,0,2,1,2,0,1,0],\n",
        "                  'y':[0,1,1,1,0,0,1,0,0,0]})\n",
        "\n",
        "df"
      ],
      "execution_count": null,
      "outputs": [
        {
          "output_type": "execute_result",
          "data": {
            "text/html": [
              "<div>\n",
              "<style scoped>\n",
              "    .dataframe tbody tr th:only-of-type {\n",
              "        vertical-align: middle;\n",
              "    }\n",
              "\n",
              "    .dataframe tbody tr th {\n",
              "        vertical-align: top;\n",
              "    }\n",
              "\n",
              "    .dataframe thead th {\n",
              "        text-align: right;\n",
              "    }\n",
              "</style>\n",
              "<table border=\"1\" class=\"dataframe\">\n",
              "  <thead>\n",
              "    <tr style=\"text-align: right;\">\n",
              "      <th></th>\n",
              "      <th>x_1</th>\n",
              "      <th>x_2</th>\n",
              "      <th>y</th>\n",
              "    </tr>\n",
              "  </thead>\n",
              "  <tbody>\n",
              "    <tr>\n",
              "      <th>0</th>\n",
              "      <td>0</td>\n",
              "      <td>0</td>\n",
              "      <td>0</td>\n",
              "    </tr>\n",
              "    <tr>\n",
              "      <th>1</th>\n",
              "      <td>0</td>\n",
              "      <td>1</td>\n",
              "      <td>1</td>\n",
              "    </tr>\n",
              "    <tr>\n",
              "      <th>2</th>\n",
              "      <td>1</td>\n",
              "      <td>2</td>\n",
              "      <td>1</td>\n",
              "    </tr>\n",
              "    <tr>\n",
              "      <th>3</th>\n",
              "      <td>0</td>\n",
              "      <td>0</td>\n",
              "      <td>1</td>\n",
              "    </tr>\n",
              "    <tr>\n",
              "      <th>4</th>\n",
              "      <td>2</td>\n",
              "      <td>2</td>\n",
              "      <td>0</td>\n",
              "    </tr>\n",
              "    <tr>\n",
              "      <th>5</th>\n",
              "      <td>1</td>\n",
              "      <td>1</td>\n",
              "      <td>0</td>\n",
              "    </tr>\n",
              "    <tr>\n",
              "      <th>6</th>\n",
              "      <td>0</td>\n",
              "      <td>2</td>\n",
              "      <td>1</td>\n",
              "    </tr>\n",
              "    <tr>\n",
              "      <th>7</th>\n",
              "      <td>2</td>\n",
              "      <td>0</td>\n",
              "      <td>0</td>\n",
              "    </tr>\n",
              "    <tr>\n",
              "      <th>8</th>\n",
              "      <td>2</td>\n",
              "      <td>1</td>\n",
              "      <td>0</td>\n",
              "    </tr>\n",
              "    <tr>\n",
              "      <th>9</th>\n",
              "      <td>1</td>\n",
              "      <td>0</td>\n",
              "      <td>0</td>\n",
              "    </tr>\n",
              "  </tbody>\n",
              "</table>\n",
              "</div>"
            ],
            "text/plain": [
              "   x_1  x_2  y\n",
              "0    0    0  0\n",
              "1    0    1  1\n",
              "2    1    2  1\n",
              "3    0    0  1\n",
              "4    2    2  0\n",
              "5    1    1  0\n",
              "6    0    2  1\n",
              "7    2    0  0\n",
              "8    2    1  0\n",
              "9    1    0  0"
            ]
          },
          "metadata": {},
          "execution_count": 2
        }
      ]
    },
    {
      "cell_type": "markdown",
      "metadata": {
        "id": "N_UgBz1KdX9Q"
      },
      "source": [
        "Misal kita akan menghitung P(Y = 0|X = (0,2)) dan P(Y = 1|X = (0,2))\n",
        "\n",
        "\n",
        "\n"
      ]
    },
    {
      "cell_type": "markdown",
      "metadata": {
        "id": "Dk_9Jp9KerGM"
      },
      "source": [
        "Langkah-langkahnya adalah sebagai berikut:\n",
        "\n",
        "\n",
        "1.   Menghitung probabilitas prior\n",
        "2.   Menghitung probabilitas likelihood\n",
        "3.   Mengalikan probabilitas likelihood dan probabilitas prior"
      ]
    },
    {
      "cell_type": "markdown",
      "metadata": {
        "id": "MzQEG-fHer3S"
      },
      "source": [
        "Berikut contohnya:"
      ]
    },
    {
      "cell_type": "markdown",
      "metadata": {
        "id": "mmJ3VVU1euup"
      },
      "source": [
        "1.   Menghitung probabilitas prior\n",
        "\n",
        "![23.jpg](data:image/jpeg;base64,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)\n",
        "\n",
        "2.   Menghitung probabilitas likelihood\n",
        "![24.jpg](data:image/jpeg;base64,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)\n",
        "\n"
      ]
    },
    {
      "cell_type": "markdown",
      "metadata": {
        "id": "1Ed9VyhvhFQV"
      },
      "source": [
        "Cara lain adalah dengan menggunakan teorema Bayes\n",
        "\n",
        "![25.jpg](data:image/jpeg;base64,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)"
      ]
    },
    {
      "cell_type": "markdown",
      "metadata": {
        "id": "aABTtbPYhidB"
      },
      "source": [
        "3.   Mengalikan probabilitas likelihood dan probabilitas\n",
        "![26.jpg](data:image/jpeg;base64,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)\n",
        "\n",
        "Dari hasil terakhir di atas diperoleh bahwa probabilitas muncul kelas y=1 dengan syarat x=(0,2) adalah yg lebih\n",
        "tinggi maka untuk input x=(0,2) hasil klasifikasinya adalah y=1\n",
        "\n"
      ]
    },
    {
      "cell_type": "markdown",
      "metadata": {
        "id": "Ps6Io8O7h039"
      },
      "source": [
        "##**Implementasi Pada Python**"
      ]
    },
    {
      "cell_type": "markdown",
      "metadata": {
        "id": "84Hvmu1bh5G8"
      },
      "source": [
        "**Import Library**"
      ]
    },
    {
      "cell_type": "code",
      "metadata": {
        "id": "PuohXuMrz2fY"
      },
      "source": [
        "import pandas as pd\n",
        "import numpy as np"
      ],
      "execution_count": null,
      "outputs": []
    },
    {
      "cell_type": "markdown",
      "metadata": {
        "id": "6jSV6IYEiFGt"
      },
      "source": [
        "**DataFrame Input**"
      ]
    },
    {
      "cell_type": "code",
      "metadata": {
        "colab": {
          "base_uri": "https://localhost:8080/",
          "height": 359
        },
        "id": "gqPdT8Y4iJ1l",
        "outputId": "50f440d4-d87b-4a7f-b56a-026a85d969d8"
      },
      "source": [
        "df = pd.DataFrame({'x_1':[0,0,1,0,2,1,0,2,2,1],\n",
        "                   'x_2':[0,1,2,0,2,1,2,0,1,0],\n",
        "                   'y':[0,1,1,1,0,0,1,0,0,0]})\n",
        "df"
      ],
      "execution_count": null,
      "outputs": [
        {
          "output_type": "execute_result",
          "data": {
            "text/html": [
              "<div>\n",
              "<style scoped>\n",
              "    .dataframe tbody tr th:only-of-type {\n",
              "        vertical-align: middle;\n",
              "    }\n",
              "\n",
              "    .dataframe tbody tr th {\n",
              "        vertical-align: top;\n",
              "    }\n",
              "\n",
              "    .dataframe thead th {\n",
              "        text-align: right;\n",
              "    }\n",
              "</style>\n",
              "<table border=\"1\" class=\"dataframe\">\n",
              "  <thead>\n",
              "    <tr style=\"text-align: right;\">\n",
              "      <th></th>\n",
              "      <th>x_1</th>\n",
              "      <th>x_2</th>\n",
              "      <th>y</th>\n",
              "    </tr>\n",
              "  </thead>\n",
              "  <tbody>\n",
              "    <tr>\n",
              "      <th>0</th>\n",
              "      <td>0</td>\n",
              "      <td>0</td>\n",
              "      <td>0</td>\n",
              "    </tr>\n",
              "    <tr>\n",
              "      <th>1</th>\n",
              "      <td>0</td>\n",
              "      <td>1</td>\n",
              "      <td>1</td>\n",
              "    </tr>\n",
              "    <tr>\n",
              "      <th>2</th>\n",
              "      <td>1</td>\n",
              "      <td>2</td>\n",
              "      <td>1</td>\n",
              "    </tr>\n",
              "    <tr>\n",
              "      <th>3</th>\n",
              "      <td>0</td>\n",
              "      <td>0</td>\n",
              "      <td>1</td>\n",
              "    </tr>\n",
              "    <tr>\n",
              "      <th>4</th>\n",
              "      <td>2</td>\n",
              "      <td>2</td>\n",
              "      <td>0</td>\n",
              "    </tr>\n",
              "    <tr>\n",
              "      <th>5</th>\n",
              "      <td>1</td>\n",
              "      <td>1</td>\n",
              "      <td>0</td>\n",
              "    </tr>\n",
              "    <tr>\n",
              "      <th>6</th>\n",
              "      <td>0</td>\n",
              "      <td>2</td>\n",
              "      <td>1</td>\n",
              "    </tr>\n",
              "    <tr>\n",
              "      <th>7</th>\n",
              "      <td>2</td>\n",
              "      <td>0</td>\n",
              "      <td>0</td>\n",
              "    </tr>\n",
              "    <tr>\n",
              "      <th>8</th>\n",
              "      <td>2</td>\n",
              "      <td>1</td>\n",
              "      <td>0</td>\n",
              "    </tr>\n",
              "    <tr>\n",
              "      <th>9</th>\n",
              "      <td>1</td>\n",
              "      <td>0</td>\n",
              "      <td>0</td>\n",
              "    </tr>\n",
              "  </tbody>\n",
              "</table>\n",
              "</div>"
            ],
            "text/plain": [
              "   x_1  x_2  y\n",
              "0    0    0  0\n",
              "1    0    1  1\n",
              "2    1    2  1\n",
              "3    0    0  1\n",
              "4    2    2  0\n",
              "5    1    1  0\n",
              "6    0    2  1\n",
              "7    2    0  0\n",
              "8    2    1  0\n",
              "9    1    0  0"
            ]
          },
          "metadata": {},
          "execution_count": 7
        }
      ]
    },
    {
      "cell_type": "markdown",
      "metadata": {
        "id": "GMMfOAK1kupy"
      },
      "source": [
        "##**Naive Bayes untuk Data Categorical**"
      ]
    },
    {
      "cell_type": "code",
      "metadata": {
        "id": "3Jh9N5HOk4n4"
      },
      "source": [
        "def prob_prior(df, Y):\n",
        "    label_kelas = sorted(list(df[Y].unique()))\n",
        "    prior = []\n",
        "    for i in label_kelas:\n",
        "        prior.append(len(df[df[Y]==i])/len(df))\n",
        "    return prior"
      ],
      "execution_count": null,
      "outputs": []
    },
    {
      "cell_type": "code",
      "metadata": {
        "id": "nkx557J7laVK"
      },
      "source": [
        "def likelihood_categorical(df, nama_var, nilai_var, Y, label):\n",
        "    feat = list(df.columns)\n",
        "    df = df[df[Y]==label]\n",
        "    p_x_dgsyrt_y = len(df[df[nama_var]==nilai_var]) / len(df)\n",
        "    return p_x_dgsyrt_y"
      ],
      "execution_count": null,
      "outputs": []
    },
    {
      "cell_type": "code",
      "metadata": {
        "id": "wAPCNQTYmmPe"
      },
      "source": [
        "def naive_bayes_categorical(df, X, Y):\n",
        "    # mengambil nama kolom\n",
        "    nama_kolom = list(df.columns)[:-1]\n",
        "    \n",
        "    # menghitung prob prior\n",
        "    prior = prob_prior(df, Y)\n",
        " \n",
        "    Y_pred = []\n",
        "    # lopping pada setiap baris data\n",
        "    for x in X:\n",
        "        # menghitung likelihood\n",
        "        labels = sorted(list(df[Y].unique()))\n",
        "        likelihood = [1]*len(labels)\n",
        "        for j in range(len(labels)):\n",
        "            for i in range(len(nama_kolom)):\n",
        "                likelihood[j] *= likelihood_categorical(df, nama_kolom[i], x[i], Y, labels[j])\n",
        " \n",
        "        # menghitung posterior probability\n",
        "        post_prob = [1]*len(labels)\n",
        "        for j in range(len(labels)):\n",
        "            post_prob[j] = likelihood[j] * prior[j]\n",
        " \n",
        "        Y_pred.append(np.argmax(post_prob))\n",
        "\n",
        "    return np.array(Y_pred)"
      ],
      "execution_count": null,
      "outputs": []
    },
    {
      "cell_type": "code",
      "metadata": {
        "id": "cQiELXhLckYc"
      },
      "source": [
        "from sklearn.model_selection import train_test_split\n",
        "train, test = train_test_split(df, test_size=.3, random_state=41)"
      ],
      "execution_count": null,
      "outputs": []
    },
    {
      "cell_type": "code",
      "metadata": {
        "id": "Wuqg7sR6noJl"
      },
      "source": [
        "X = df. iloc[:,:-1].values\n",
        "Y = df. iloc[:,-1].values\n",
        "Y_pred = naive_bayes_categorical(train, X=X, Y=\"y\")"
      ],
      "execution_count": null,
      "outputs": []
    },
    {
      "cell_type": "code",
      "metadata": {
        "colab": {
          "base_uri": "https://localhost:8080/"
        },
        "id": "QErOglp3nqBL",
        "outputId": "2b78e553-fe4b-4f4e-ae0e-d9d0920b4e94"
      },
      "source": [
        "X"
      ],
      "execution_count": null,
      "outputs": [
        {
          "output_type": "execute_result",
          "data": {
            "text/plain": [
              "array([[0, 0],\n",
              "       [0, 1],\n",
              "       [1, 2],\n",
              "       [0, 0],\n",
              "       [2, 2],\n",
              "       [1, 1],\n",
              "       [0, 2],\n",
              "       [2, 0],\n",
              "       [2, 1],\n",
              "       [1, 0]])"
            ]
          },
          "metadata": {},
          "execution_count": 16
        }
      ]
    },
    {
      "cell_type": "code",
      "metadata": {
        "colab": {
          "base_uri": "https://localhost:8080/"
        },
        "id": "UdhxbIcxntdg",
        "outputId": "1a12a4fd-ad7a-48c9-f7b3-5d8970a0e53f"
      },
      "source": [
        "Y_pred"
      ],
      "execution_count": null,
      "outputs": [
        {
          "output_type": "execute_result",
          "data": {
            "text/plain": [
              "array([1, 1, 1, 1, 0, 1, 1, 0, 0, 0])"
            ]
          },
          "metadata": {},
          "execution_count": 17
        }
      ]
    },
    {
      "cell_type": "code",
      "metadata": {
        "colab": {
          "base_uri": "https://localhost:8080/"
        },
        "id": "6BCYY17JnxUb",
        "outputId": "552fb7ae-c44c-4ca2-c39e-20b710a34f43"
      },
      "source": [
        "Y"
      ],
      "execution_count": null,
      "outputs": [
        {
          "output_type": "execute_result",
          "data": {
            "text/plain": [
              "array([0, 1, 1, 1, 0, 0, 1, 0, 0, 0])"
            ]
          },
          "metadata": {},
          "execution_count": 18
        }
      ]
    },
    {
      "cell_type": "markdown",
      "metadata": {
        "id": "woDZEMTkn8O_"
      },
      "source": [
        "##**Implementasi Pada Data Real**"
      ]
    },
    {
      "cell_type": "markdown",
      "metadata": {
        "id": "9VUJdyCwn_8j"
      },
      "source": [
        "**Loading Dataset**"
      ]
    },
    {
      "cell_type": "code",
      "metadata": {
        "colab": {
          "base_uri": "https://localhost:8080/",
          "height": 669
        },
        "id": "SUZu9G5koCtz",
        "outputId": "08cd6900-2fe1-4d32-a9c1-128c3742e704"
      },
      "source": [
        "data = pd. read_csv(\"https://raw.githubusercontent.com/learn-co-curriculum/dsc-gaussian-naive-bayes-lab/master/heart.csv\")\n",
        "data. head(20)"
      ],
      "execution_count": null,
      "outputs": [
        {
          "output_type": "execute_result",
          "data": {
            "text/html": [
              "<div>\n",
              "<style scoped>\n",
              "    .dataframe tbody tr th:only-of-type {\n",
              "        vertical-align: middle;\n",
              "    }\n",
              "\n",
              "    .dataframe tbody tr th {\n",
              "        vertical-align: top;\n",
              "    }\n",
              "\n",
              "    .dataframe thead th {\n",
              "        text-align: right;\n",
              "    }\n",
              "</style>\n",
              "<table border=\"1\" class=\"dataframe\">\n",
              "  <thead>\n",
              "    <tr style=\"text-align: right;\">\n",
              "      <th></th>\n",
              "      <th>age</th>\n",
              "      <th>sex</th>\n",
              "      <th>cp</th>\n",
              "      <th>trestbps</th>\n",
              "      <th>chol</th>\n",
              "      <th>fbs</th>\n",
              "      <th>restecg</th>\n",
              "      <th>thalach</th>\n",
              "      <th>exang</th>\n",
              "      <th>oldpeak</th>\n",
              "      <th>slope</th>\n",
              "      <th>ca</th>\n",
              "      <th>thal</th>\n",
              "      <th>target</th>\n",
              "    </tr>\n",
              "  </thead>\n",
              "  <tbody>\n",
              "    <tr>\n",
              "      <th>0</th>\n",
              "      <td>63</td>\n",
              "      <td>1</td>\n",
              "      <td>3</td>\n",
              "      <td>145</td>\n",
              "      <td>233</td>\n",
              "      <td>1</td>\n",
              "      <td>0</td>\n",
              "      <td>150</td>\n",
              "      <td>0</td>\n",
              "      <td>2.3</td>\n",
              "      <td>0</td>\n",
              "      <td>0</td>\n",
              "      <td>1</td>\n",
              "      <td>1</td>\n",
              "    </tr>\n",
              "    <tr>\n",
              "      <th>1</th>\n",
              "      <td>37</td>\n",
              "      <td>1</td>\n",
              "      <td>2</td>\n",
              "      <td>130</td>\n",
              "      <td>250</td>\n",
              "      <td>0</td>\n",
              "      <td>1</td>\n",
              "      <td>187</td>\n",
              "      <td>0</td>\n",
              "      <td>3.5</td>\n",
              "      <td>0</td>\n",
              "      <td>0</td>\n",
              "      <td>2</td>\n",
              "      <td>1</td>\n",
              "    </tr>\n",
              "    <tr>\n",
              "      <th>2</th>\n",
              "      <td>41</td>\n",
              "      <td>0</td>\n",
              "      <td>1</td>\n",
              "      <td>130</td>\n",
              "      <td>204</td>\n",
              "      <td>0</td>\n",
              "      <td>0</td>\n",
              "      <td>172</td>\n",
              "      <td>0</td>\n",
              "      <td>1.4</td>\n",
              "      <td>2</td>\n",
              "      <td>0</td>\n",
              "      <td>2</td>\n",
              "      <td>1</td>\n",
              "    </tr>\n",
              "    <tr>\n",
              "      <th>3</th>\n",
              "      <td>56</td>\n",
              "      <td>1</td>\n",
              "      <td>1</td>\n",
              "      <td>120</td>\n",
              "      <td>236</td>\n",
              "      <td>0</td>\n",
              "      <td>1</td>\n",
              "      <td>178</td>\n",
              "      <td>0</td>\n",
              "      <td>0.8</td>\n",
              "      <td>2</td>\n",
              "      <td>0</td>\n",
              "      <td>2</td>\n",
              "      <td>1</td>\n",
              "    </tr>\n",
              "    <tr>\n",
              "      <th>4</th>\n",
              "      <td>57</td>\n",
              "      <td>0</td>\n",
              "      <td>0</td>\n",
              "      <td>120</td>\n",
              "      <td>354</td>\n",
              "      <td>0</td>\n",
              "      <td>1</td>\n",
              "      <td>163</td>\n",
              "      <td>1</td>\n",
              "      <td>0.6</td>\n",
              "      <td>2</td>\n",
              "      <td>0</td>\n",
              "      <td>2</td>\n",
              "      <td>1</td>\n",
              "    </tr>\n",
              "    <tr>\n",
              "      <th>5</th>\n",
              "      <td>57</td>\n",
              "      <td>1</td>\n",
              "      <td>0</td>\n",
              "      <td>140</td>\n",
              "      <td>192</td>\n",
              "      <td>0</td>\n",
              "      <td>1</td>\n",
              "      <td>148</td>\n",
              "      <td>0</td>\n",
              "      <td>0.4</td>\n",
              "      <td>1</td>\n",
              "      <td>0</td>\n",
              "      <td>1</td>\n",
              "      <td>1</td>\n",
              "    </tr>\n",
              "    <tr>\n",
              "      <th>6</th>\n",
              "      <td>56</td>\n",
              "      <td>0</td>\n",
              "      <td>1</td>\n",
              "      <td>140</td>\n",
              "      <td>294</td>\n",
              "      <td>0</td>\n",
              "      <td>0</td>\n",
              "      <td>153</td>\n",
              "      <td>0</td>\n",
              "      <td>1.3</td>\n",
              "      <td>1</td>\n",
              "      <td>0</td>\n",
              "      <td>2</td>\n",
              "      <td>1</td>\n",
              "    </tr>\n",
              "    <tr>\n",
              "      <th>7</th>\n",
              "      <td>44</td>\n",
              "      <td>1</td>\n",
              "      <td>1</td>\n",
              "      <td>120</td>\n",
              "      <td>263</td>\n",
              "      <td>0</td>\n",
              "      <td>1</td>\n",
              "      <td>173</td>\n",
              "      <td>0</td>\n",
              "      <td>0.0</td>\n",
              "      <td>2</td>\n",
              "      <td>0</td>\n",
              "      <td>3</td>\n",
              "      <td>1</td>\n",
              "    </tr>\n",
              "    <tr>\n",
              "      <th>8</th>\n",
              "      <td>52</td>\n",
              "      <td>1</td>\n",
              "      <td>2</td>\n",
              "      <td>172</td>\n",
              "      <td>199</td>\n",
              "      <td>1</td>\n",
              "      <td>1</td>\n",
              "      <td>162</td>\n",
              "      <td>0</td>\n",
              "      <td>0.5</td>\n",
              "      <td>2</td>\n",
              "      <td>0</td>\n",
              "      <td>3</td>\n",
              "      <td>1</td>\n",
              "    </tr>\n",
              "    <tr>\n",
              "      <th>9</th>\n",
              "      <td>57</td>\n",
              "      <td>1</td>\n",
              "      <td>2</td>\n",
              "      <td>150</td>\n",
              "      <td>168</td>\n",
              "      <td>0</td>\n",
              "      <td>1</td>\n",
              "      <td>174</td>\n",
              "      <td>0</td>\n",
              "      <td>1.6</td>\n",
              "      <td>2</td>\n",
              "      <td>0</td>\n",
              "      <td>2</td>\n",
              "      <td>1</td>\n",
              "    </tr>\n",
              "    <tr>\n",
              "      <th>10</th>\n",
              "      <td>54</td>\n",
              "      <td>1</td>\n",
              "      <td>0</td>\n",
              "      <td>140</td>\n",
              "      <td>239</td>\n",
              "      <td>0</td>\n",
              "      <td>1</td>\n",
              "      <td>160</td>\n",
              "      <td>0</td>\n",
              "      <td>1.2</td>\n",
              "      <td>2</td>\n",
              "      <td>0</td>\n",
              "      <td>2</td>\n",
              "      <td>1</td>\n",
              "    </tr>\n",
              "    <tr>\n",
              "      <th>11</th>\n",
              "      <td>48</td>\n",
              "      <td>0</td>\n",
              "      <td>2</td>\n",
              "      <td>130</td>\n",
              "      <td>275</td>\n",
              "      <td>0</td>\n",
              "      <td>1</td>\n",
              "      <td>139</td>\n",
              "      <td>0</td>\n",
              "      <td>0.2</td>\n",
              "      <td>2</td>\n",
              "      <td>0</td>\n",
              "      <td>2</td>\n",
              "      <td>1</td>\n",
              "    </tr>\n",
              "    <tr>\n",
              "      <th>12</th>\n",
              "      <td>49</td>\n",
              "      <td>1</td>\n",
              "      <td>1</td>\n",
              "      <td>130</td>\n",
              "      <td>266</td>\n",
              "      <td>0</td>\n",
              "      <td>1</td>\n",
              "      <td>171</td>\n",
              "      <td>0</td>\n",
              "      <td>0.6</td>\n",
              "      <td>2</td>\n",
              "      <td>0</td>\n",
              "      <td>2</td>\n",
              "      <td>1</td>\n",
              "    </tr>\n",
              "    <tr>\n",
              "      <th>13</th>\n",
              "      <td>64</td>\n",
              "      <td>1</td>\n",
              "      <td>3</td>\n",
              "      <td>110</td>\n",
              "      <td>211</td>\n",
              "      <td>0</td>\n",
              "      <td>0</td>\n",
              "      <td>144</td>\n",
              "      <td>1</td>\n",
              "      <td>1.8</td>\n",
              "      <td>1</td>\n",
              "      <td>0</td>\n",
              "      <td>2</td>\n",
              "      <td>1</td>\n",
              "    </tr>\n",
              "    <tr>\n",
              "      <th>14</th>\n",
              "      <td>58</td>\n",
              "      <td>0</td>\n",
              "      <td>3</td>\n",
              "      <td>150</td>\n",
              "      <td>283</td>\n",
              "      <td>1</td>\n",
              "      <td>0</td>\n",
              "      <td>162</td>\n",
              "      <td>0</td>\n",
              "      <td>1.0</td>\n",
              "      <td>2</td>\n",
              "      <td>0</td>\n",
              "      <td>2</td>\n",
              "      <td>1</td>\n",
              "    </tr>\n",
              "    <tr>\n",
              "      <th>15</th>\n",
              "      <td>50</td>\n",
              "      <td>0</td>\n",
              "      <td>2</td>\n",
              "      <td>120</td>\n",
              "      <td>219</td>\n",
              "      <td>0</td>\n",
              "      <td>1</td>\n",
              "      <td>158</td>\n",
              "      <td>0</td>\n",
              "      <td>1.6</td>\n",
              "      <td>1</td>\n",
              "      <td>0</td>\n",
              "      <td>2</td>\n",
              "      <td>1</td>\n",
              "    </tr>\n",
              "    <tr>\n",
              "      <th>16</th>\n",
              "      <td>58</td>\n",
              "      <td>0</td>\n",
              "      <td>2</td>\n",
              "      <td>120</td>\n",
              "      <td>340</td>\n",
              "      <td>0</td>\n",
              "      <td>1</td>\n",
              "      <td>172</td>\n",
              "      <td>0</td>\n",
              "      <td>0.0</td>\n",
              "      <td>2</td>\n",
              "      <td>0</td>\n",
              "      <td>2</td>\n",
              "      <td>1</td>\n",
              "    </tr>\n",
              "    <tr>\n",
              "      <th>17</th>\n",
              "      <td>66</td>\n",
              "      <td>0</td>\n",
              "      <td>3</td>\n",
              "      <td>150</td>\n",
              "      <td>226</td>\n",
              "      <td>0</td>\n",
              "      <td>1</td>\n",
              "      <td>114</td>\n",
              "      <td>0</td>\n",
              "      <td>2.6</td>\n",
              "      <td>0</td>\n",
              "      <td>0</td>\n",
              "      <td>2</td>\n",
              "      <td>1</td>\n",
              "    </tr>\n",
              "    <tr>\n",
              "      <th>18</th>\n",
              "      <td>43</td>\n",
              "      <td>1</td>\n",
              "      <td>0</td>\n",
              "      <td>150</td>\n",
              "      <td>247</td>\n",
              "      <td>0</td>\n",
              "      <td>1</td>\n",
              "      <td>171</td>\n",
              "      <td>0</td>\n",
              "      <td>1.5</td>\n",
              "      <td>2</td>\n",
              "      <td>0</td>\n",
              "      <td>2</td>\n",
              "      <td>1</td>\n",
              "    </tr>\n",
              "    <tr>\n",
              "      <th>19</th>\n",
              "      <td>69</td>\n",
              "      <td>0</td>\n",
              "      <td>3</td>\n",
              "      <td>140</td>\n",
              "      <td>239</td>\n",
              "      <td>0</td>\n",
              "      <td>1</td>\n",
              "      <td>151</td>\n",
              "      <td>0</td>\n",
              "      <td>1.8</td>\n",
              "      <td>2</td>\n",
              "      <td>2</td>\n",
              "      <td>2</td>\n",
              "      <td>1</td>\n",
              "    </tr>\n",
              "  </tbody>\n",
              "</table>\n",
              "</div>"
            ],
            "text/plain": [
              "    age  sex  cp  trestbps  chol  fbs  ...  exang  oldpeak  slope  ca  thal  target\n",
              "0    63    1   3       145   233    1  ...      0      2.3      0   0     1       1\n",
              "1    37    1   2       130   250    0  ...      0      3.5      0   0     2       1\n",
              "2    41    0   1       130   204    0  ...      0      1.4      2   0     2       1\n",
              "3    56    1   1       120   236    0  ...      0      0.8      2   0     2       1\n",
              "4    57    0   0       120   354    0  ...      1      0.6      2   0     2       1\n",
              "5    57    1   0       140   192    0  ...      0      0.4      1   0     1       1\n",
              "6    56    0   1       140   294    0  ...      0      1.3      1   0     2       1\n",
              "7    44    1   1       120   263    0  ...      0      0.0      2   0     3       1\n",
              "8    52    1   2       172   199    1  ...      0      0.5      2   0     3       1\n",
              "9    57    1   2       150   168    0  ...      0      1.6      2   0     2       1\n",
              "10   54    1   0       140   239    0  ...      0      1.2      2   0     2       1\n",
              "11   48    0   2       130   275    0  ...      0      0.2      2   0     2       1\n",
              "12   49    1   1       130   266    0  ...      0      0.6      2   0     2       1\n",
              "13   64    1   3       110   211    0  ...      1      1.8      1   0     2       1\n",
              "14   58    0   3       150   283    1  ...      0      1.0      2   0     2       1\n",
              "15   50    0   2       120   219    0  ...      0      1.6      1   0     2       1\n",
              "16   58    0   2       120   340    0  ...      0      0.0      2   0     2       1\n",
              "17   66    0   3       150   226    0  ...      0      2.6      0   0     2       1\n",
              "18   43    1   0       150   247    0  ...      0      1.5      2   0     2       1\n",
              "19   69    0   3       140   239    0  ...      0      1.8      2   2     2       1\n",
              "\n",
              "[20 rows x 14 columns]"
            ]
          },
          "metadata": {},
          "execution_count": 70
        }
      ]
    },
    {
      "cell_type": "markdown",
      "metadata": {
        "id": "A6kLFWkooT3z"
      },
      "source": [
        "**Membagi Data jadi Training & Testing**"
      ]
    },
    {
      "cell_type": "code",
      "metadata": {
        "id": "J82CZVFgobcy"
      },
      "source": [
        "from sklearn. model_selection import train_test_split\n",
        "train, test = train_test_split(data, test_size=.3, random_state=41)"
      ],
      "execution_count": null,
      "outputs": []
    },
    {
      "cell_type": "markdown",
      "metadata": {
        "id": "PKDGiaqGogGc"
      },
      "source": [
        "**Training Model**"
      ]
    },
    {
      "cell_type": "code",
      "metadata": {
        "id": "zHbELwtxokk3"
      },
      "source": [
        "X_test = test.iloc[:,:-1].values\n",
        "Y_test = test.iloc[:,-1].values\n",
        "Y_pred = naive_bayes_categorical(train, X=X_test, Y=\"sex\")"
      ],
      "execution_count": null,
      "outputs": []
    },
    {
      "cell_type": "code",
      "metadata": {
        "id": "Ko-FTYFEotAN",
        "colab": {
          "base_uri": "https://localhost:8080/"
        },
        "outputId": "8f24fa8e-73c7-4bfa-c724-48db45f47408"
      },
      "source": [
        "from sklearn. metrics import accuracy_score\n",
        "print(accuracy_score(Y_test, Y_pred))"
      ],
      "execution_count": null,
      "outputs": [
        {
          "output_type": "stream",
          "name": "stdout",
          "text": [
            "0.4725274725274725\n"
          ]
        }
      ]
    },
    {
      "cell_type": "markdown",
      "metadata": {
        "id": "6-a2SHItovz9"
      },
      "source": [
        "#**Metode Klasifikasi Naive Bayes Data Numerik**"
      ]
    },
    {
      "cell_type": "markdown",
      "metadata": {
        "id": "dBe9g7VLo2t0"
      },
      "source": [
        "Misal kita memiliki dataset sebagai berikut:"
      ]
    },
    {
      "cell_type": "code",
      "metadata": {
        "id": "Qs2z63MYo6x_",
        "colab": {
          "base_uri": "https://localhost:8080/",
          "height": 669
        },
        "outputId": "678288c2-bc0a-415a-f50f-1b5d2945d8a7"
      },
      "source": [
        "data = pd.read_csv(\"https://raw.githubusercontent.com/learn-co-curriculum/dsc-gaussian-naive-bayes-lab/master/heart.csv\")\n",
        "data.head(20)"
      ],
      "execution_count": null,
      "outputs": [
        {
          "output_type": "execute_result",
          "data": {
            "text/html": [
              "<div>\n",
              "<style scoped>\n",
              "    .dataframe tbody tr th:only-of-type {\n",
              "        vertical-align: middle;\n",
              "    }\n",
              "\n",
              "    .dataframe tbody tr th {\n",
              "        vertical-align: top;\n",
              "    }\n",
              "\n",
              "    .dataframe thead th {\n",
              "        text-align: right;\n",
              "    }\n",
              "</style>\n",
              "<table border=\"1\" class=\"dataframe\">\n",
              "  <thead>\n",
              "    <tr style=\"text-align: right;\">\n",
              "      <th></th>\n",
              "      <th>age</th>\n",
              "      <th>sex</th>\n",
              "      <th>cp</th>\n",
              "      <th>trestbps</th>\n",
              "      <th>chol</th>\n",
              "      <th>fbs</th>\n",
              "      <th>restecg</th>\n",
              "      <th>thalach</th>\n",
              "      <th>exang</th>\n",
              "      <th>oldpeak</th>\n",
              "      <th>slope</th>\n",
              "      <th>ca</th>\n",
              "      <th>thal</th>\n",
              "      <th>target</th>\n",
              "    </tr>\n",
              "  </thead>\n",
              "  <tbody>\n",
              "    <tr>\n",
              "      <th>0</th>\n",
              "      <td>63</td>\n",
              "      <td>1</td>\n",
              "      <td>3</td>\n",
              "      <td>145</td>\n",
              "      <td>233</td>\n",
              "      <td>1</td>\n",
              "      <td>0</td>\n",
              "      <td>150</td>\n",
              "      <td>0</td>\n",
              "      <td>2.3</td>\n",
              "      <td>0</td>\n",
              "      <td>0</td>\n",
              "      <td>1</td>\n",
              "      <td>1</td>\n",
              "    </tr>\n",
              "    <tr>\n",
              "      <th>1</th>\n",
              "      <td>37</td>\n",
              "      <td>1</td>\n",
              "      <td>2</td>\n",
              "      <td>130</td>\n",
              "      <td>250</td>\n",
              "      <td>0</td>\n",
              "      <td>1</td>\n",
              "      <td>187</td>\n",
              "      <td>0</td>\n",
              "      <td>3.5</td>\n",
              "      <td>0</td>\n",
              "      <td>0</td>\n",
              "      <td>2</td>\n",
              "      <td>1</td>\n",
              "    </tr>\n",
              "    <tr>\n",
              "      <th>2</th>\n",
              "      <td>41</td>\n",
              "      <td>0</td>\n",
              "      <td>1</td>\n",
              "      <td>130</td>\n",
              "      <td>204</td>\n",
              "      <td>0</td>\n",
              "      <td>0</td>\n",
              "      <td>172</td>\n",
              "      <td>0</td>\n",
              "      <td>1.4</td>\n",
              "      <td>2</td>\n",
              "      <td>0</td>\n",
              "      <td>2</td>\n",
              "      <td>1</td>\n",
              "    </tr>\n",
              "    <tr>\n",
              "      <th>3</th>\n",
              "      <td>56</td>\n",
              "      <td>1</td>\n",
              "      <td>1</td>\n",
              "      <td>120</td>\n",
              "      <td>236</td>\n",
              "      <td>0</td>\n",
              "      <td>1</td>\n",
              "      <td>178</td>\n",
              "      <td>0</td>\n",
              "      <td>0.8</td>\n",
              "      <td>2</td>\n",
              "      <td>0</td>\n",
              "      <td>2</td>\n",
              "      <td>1</td>\n",
              "    </tr>\n",
              "    <tr>\n",
              "      <th>4</th>\n",
              "      <td>57</td>\n",
              "      <td>0</td>\n",
              "      <td>0</td>\n",
              "      <td>120</td>\n",
              "      <td>354</td>\n",
              "      <td>0</td>\n",
              "      <td>1</td>\n",
              "      <td>163</td>\n",
              "      <td>1</td>\n",
              "      <td>0.6</td>\n",
              "      <td>2</td>\n",
              "      <td>0</td>\n",
              "      <td>2</td>\n",
              "      <td>1</td>\n",
              "    </tr>\n",
              "    <tr>\n",
              "      <th>5</th>\n",
              "      <td>57</td>\n",
              "      <td>1</td>\n",
              "      <td>0</td>\n",
              "      <td>140</td>\n",
              "      <td>192</td>\n",
              "      <td>0</td>\n",
              "      <td>1</td>\n",
              "      <td>148</td>\n",
              "      <td>0</td>\n",
              "      <td>0.4</td>\n",
              "      <td>1</td>\n",
              "      <td>0</td>\n",
              "      <td>1</td>\n",
              "      <td>1</td>\n",
              "    </tr>\n",
              "    <tr>\n",
              "      <th>6</th>\n",
              "      <td>56</td>\n",
              "      <td>0</td>\n",
              "      <td>1</td>\n",
              "      <td>140</td>\n",
              "      <td>294</td>\n",
              "      <td>0</td>\n",
              "      <td>0</td>\n",
              "      <td>153</td>\n",
              "      <td>0</td>\n",
              "      <td>1.3</td>\n",
              "      <td>1</td>\n",
              "      <td>0</td>\n",
              "      <td>2</td>\n",
              "      <td>1</td>\n",
              "    </tr>\n",
              "    <tr>\n",
              "      <th>7</th>\n",
              "      <td>44</td>\n",
              "      <td>1</td>\n",
              "      <td>1</td>\n",
              "      <td>120</td>\n",
              "      <td>263</td>\n",
              "      <td>0</td>\n",
              "      <td>1</td>\n",
              "      <td>173</td>\n",
              "      <td>0</td>\n",
              "      <td>0.0</td>\n",
              "      <td>2</td>\n",
              "      <td>0</td>\n",
              "      <td>3</td>\n",
              "      <td>1</td>\n",
              "    </tr>\n",
              "    <tr>\n",
              "      <th>8</th>\n",
              "      <td>52</td>\n",
              "      <td>1</td>\n",
              "      <td>2</td>\n",
              "      <td>172</td>\n",
              "      <td>199</td>\n",
              "      <td>1</td>\n",
              "      <td>1</td>\n",
              "      <td>162</td>\n",
              "      <td>0</td>\n",
              "      <td>0.5</td>\n",
              "      <td>2</td>\n",
              "      <td>0</td>\n",
              "      <td>3</td>\n",
              "      <td>1</td>\n",
              "    </tr>\n",
              "    <tr>\n",
              "      <th>9</th>\n",
              "      <td>57</td>\n",
              "      <td>1</td>\n",
              "      <td>2</td>\n",
              "      <td>150</td>\n",
              "      <td>168</td>\n",
              "      <td>0</td>\n",
              "      <td>1</td>\n",
              "      <td>174</td>\n",
              "      <td>0</td>\n",
              "      <td>1.6</td>\n",
              "      <td>2</td>\n",
              "      <td>0</td>\n",
              "      <td>2</td>\n",
              "      <td>1</td>\n",
              "    </tr>\n",
              "    <tr>\n",
              "      <th>10</th>\n",
              "      <td>54</td>\n",
              "      <td>1</td>\n",
              "      <td>0</td>\n",
              "      <td>140</td>\n",
              "      <td>239</td>\n",
              "      <td>0</td>\n",
              "      <td>1</td>\n",
              "      <td>160</td>\n",
              "      <td>0</td>\n",
              "      <td>1.2</td>\n",
              "      <td>2</td>\n",
              "      <td>0</td>\n",
              "      <td>2</td>\n",
              "      <td>1</td>\n",
              "    </tr>\n",
              "    <tr>\n",
              "      <th>11</th>\n",
              "      <td>48</td>\n",
              "      <td>0</td>\n",
              "      <td>2</td>\n",
              "      <td>130</td>\n",
              "      <td>275</td>\n",
              "      <td>0</td>\n",
              "      <td>1</td>\n",
              "      <td>139</td>\n",
              "      <td>0</td>\n",
              "      <td>0.2</td>\n",
              "      <td>2</td>\n",
              "      <td>0</td>\n",
              "      <td>2</td>\n",
              "      <td>1</td>\n",
              "    </tr>\n",
              "    <tr>\n",
              "      <th>12</th>\n",
              "      <td>49</td>\n",
              "      <td>1</td>\n",
              "      <td>1</td>\n",
              "      <td>130</td>\n",
              "      <td>266</td>\n",
              "      <td>0</td>\n",
              "      <td>1</td>\n",
              "      <td>171</td>\n",
              "      <td>0</td>\n",
              "      <td>0.6</td>\n",
              "      <td>2</td>\n",
              "      <td>0</td>\n",
              "      <td>2</td>\n",
              "      <td>1</td>\n",
              "    </tr>\n",
              "    <tr>\n",
              "      <th>13</th>\n",
              "      <td>64</td>\n",
              "      <td>1</td>\n",
              "      <td>3</td>\n",
              "      <td>110</td>\n",
              "      <td>211</td>\n",
              "      <td>0</td>\n",
              "      <td>0</td>\n",
              "      <td>144</td>\n",
              "      <td>1</td>\n",
              "      <td>1.8</td>\n",
              "      <td>1</td>\n",
              "      <td>0</td>\n",
              "      <td>2</td>\n",
              "      <td>1</td>\n",
              "    </tr>\n",
              "    <tr>\n",
              "      <th>14</th>\n",
              "      <td>58</td>\n",
              "      <td>0</td>\n",
              "      <td>3</td>\n",
              "      <td>150</td>\n",
              "      <td>283</td>\n",
              "      <td>1</td>\n",
              "      <td>0</td>\n",
              "      <td>162</td>\n",
              "      <td>0</td>\n",
              "      <td>1.0</td>\n",
              "      <td>2</td>\n",
              "      <td>0</td>\n",
              "      <td>2</td>\n",
              "      <td>1</td>\n",
              "    </tr>\n",
              "    <tr>\n",
              "      <th>15</th>\n",
              "      <td>50</td>\n",
              "      <td>0</td>\n",
              "      <td>2</td>\n",
              "      <td>120</td>\n",
              "      <td>219</td>\n",
              "      <td>0</td>\n",
              "      <td>1</td>\n",
              "      <td>158</td>\n",
              "      <td>0</td>\n",
              "      <td>1.6</td>\n",
              "      <td>1</td>\n",
              "      <td>0</td>\n",
              "      <td>2</td>\n",
              "      <td>1</td>\n",
              "    </tr>\n",
              "    <tr>\n",
              "      <th>16</th>\n",
              "      <td>58</td>\n",
              "      <td>0</td>\n",
              "      <td>2</td>\n",
              "      <td>120</td>\n",
              "      <td>340</td>\n",
              "      <td>0</td>\n",
              "      <td>1</td>\n",
              "      <td>172</td>\n",
              "      <td>0</td>\n",
              "      <td>0.0</td>\n",
              "      <td>2</td>\n",
              "      <td>0</td>\n",
              "      <td>2</td>\n",
              "      <td>1</td>\n",
              "    </tr>\n",
              "    <tr>\n",
              "      <th>17</th>\n",
              "      <td>66</td>\n",
              "      <td>0</td>\n",
              "      <td>3</td>\n",
              "      <td>150</td>\n",
              "      <td>226</td>\n",
              "      <td>0</td>\n",
              "      <td>1</td>\n",
              "      <td>114</td>\n",
              "      <td>0</td>\n",
              "      <td>2.6</td>\n",
              "      <td>0</td>\n",
              "      <td>0</td>\n",
              "      <td>2</td>\n",
              "      <td>1</td>\n",
              "    </tr>\n",
              "    <tr>\n",
              "      <th>18</th>\n",
              "      <td>43</td>\n",
              "      <td>1</td>\n",
              "      <td>0</td>\n",
              "      <td>150</td>\n",
              "      <td>247</td>\n",
              "      <td>0</td>\n",
              "      <td>1</td>\n",
              "      <td>171</td>\n",
              "      <td>0</td>\n",
              "      <td>1.5</td>\n",
              "      <td>2</td>\n",
              "      <td>0</td>\n",
              "      <td>2</td>\n",
              "      <td>1</td>\n",
              "    </tr>\n",
              "    <tr>\n",
              "      <th>19</th>\n",
              "      <td>69</td>\n",
              "      <td>0</td>\n",
              "      <td>3</td>\n",
              "      <td>140</td>\n",
              "      <td>239</td>\n",
              "      <td>0</td>\n",
              "      <td>1</td>\n",
              "      <td>151</td>\n",
              "      <td>0</td>\n",
              "      <td>1.8</td>\n",
              "      <td>2</td>\n",
              "      <td>2</td>\n",
              "      <td>2</td>\n",
              "      <td>1</td>\n",
              "    </tr>\n",
              "  </tbody>\n",
              "</table>\n",
              "</div>"
            ],
            "text/plain": [
              "    age  sex  cp  trestbps  chol  fbs  ...  exang  oldpeak  slope  ca  thal  target\n",
              "0    63    1   3       145   233    1  ...      0      2.3      0   0     1       1\n",
              "1    37    1   2       130   250    0  ...      0      3.5      0   0     2       1\n",
              "2    41    0   1       130   204    0  ...      0      1.4      2   0     2       1\n",
              "3    56    1   1       120   236    0  ...      0      0.8      2   0     2       1\n",
              "4    57    0   0       120   354    0  ...      1      0.6      2   0     2       1\n",
              "5    57    1   0       140   192    0  ...      0      0.4      1   0     1       1\n",
              "6    56    0   1       140   294    0  ...      0      1.3      1   0     2       1\n",
              "7    44    1   1       120   263    0  ...      0      0.0      2   0     3       1\n",
              "8    52    1   2       172   199    1  ...      0      0.5      2   0     3       1\n",
              "9    57    1   2       150   168    0  ...      0      1.6      2   0     2       1\n",
              "10   54    1   0       140   239    0  ...      0      1.2      2   0     2       1\n",
              "11   48    0   2       130   275    0  ...      0      0.2      2   0     2       1\n",
              "12   49    1   1       130   266    0  ...      0      0.6      2   0     2       1\n",
              "13   64    1   3       110   211    0  ...      1      1.8      1   0     2       1\n",
              "14   58    0   3       150   283    1  ...      0      1.0      2   0     2       1\n",
              "15   50    0   2       120   219    0  ...      0      1.6      1   0     2       1\n",
              "16   58    0   2       120   340    0  ...      0      0.0      2   0     2       1\n",
              "17   66    0   3       150   226    0  ...      0      2.6      0   0     2       1\n",
              "18   43    1   0       150   247    0  ...      0      1.5      2   0     2       1\n",
              "19   69    0   3       140   239    0  ...      0      1.8      2   2     2       1\n",
              "\n",
              "[20 rows x 14 columns]"
            ]
          },
          "metadata": {},
          "execution_count": 76
        }
      ]
    },
    {
      "cell_type": "markdown",
      "metadata": {
        "id": "XhYy2shpo_rs"
      },
      "source": [
        "Jika kita akan menghitung data numerik, maka ada dua cara, pertama kita ubah ke data categorical, atau dengan pendekatan model distribusi. Artinya kita melakukan fitting data ke sebuah distribusi standar(misal distribusi normal)"
      ]
    },
    {
      "cell_type": "markdown",
      "metadata": {
        "id": "E5tLKJqkpRWx"
      },
      "source": [
        "![27.jpg](data:image/jpeg;base64,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)"
      ]
    },
    {
      "cell_type": "markdown",
      "metadata": {
        "id": "gJREuaWFpXx3"
      },
      "source": [
        "##**Implementasi Pada Python**"
      ]
    },
    {
      "cell_type": "markdown",
      "metadata": {
        "id": "hzZMLr5NpdfP"
      },
      "source": [
        "**Import Library**"
      ]
    },
    {
      "cell_type": "code",
      "metadata": {
        "id": "yJTtTrMDpgou"
      },
      "source": [
        "import pandas as pd\n",
        "import numpy as np"
      ],
      "execution_count": null,
      "outputs": []
    },
    {
      "cell_type": "markdown",
      "metadata": {
        "id": "uoil1G9CpvSE"
      },
      "source": [
        "**DataFrame Input**"
      ]
    },
    {
      "cell_type": "code",
      "metadata": {
        "id": "zoMr0aiDpzBJ",
        "colab": {
          "base_uri": "https://localhost:8080/",
          "height": 669
        },
        "outputId": "9fcf5e10-735e-49ab-eb4b-be014bfe4adb"
      },
      "source": [
        "data2 = pd.read_csv(\"https://raw.githubusercontent.com/learn-co-curriculum/dsc-gaussian-naive-bayes-lab/master/heart.csv\")\n",
        "data2.head(20)"
      ],
      "execution_count": null,
      "outputs": [
        {
          "output_type": "execute_result",
          "data": {
            "text/html": [
              "<div>\n",
              "<style scoped>\n",
              "    .dataframe tbody tr th:only-of-type {\n",
              "        vertical-align: middle;\n",
              "    }\n",
              "\n",
              "    .dataframe tbody tr th {\n",
              "        vertical-align: top;\n",
              "    }\n",
              "\n",
              "    .dataframe thead th {\n",
              "        text-align: right;\n",
              "    }\n",
              "</style>\n",
              "<table border=\"1\" class=\"dataframe\">\n",
              "  <thead>\n",
              "    <tr style=\"text-align: right;\">\n",
              "      <th></th>\n",
              "      <th>age</th>\n",
              "      <th>sex</th>\n",
              "      <th>cp</th>\n",
              "      <th>trestbps</th>\n",
              "      <th>chol</th>\n",
              "      <th>fbs</th>\n",
              "      <th>restecg</th>\n",
              "      <th>thalach</th>\n",
              "      <th>exang</th>\n",
              "      <th>oldpeak</th>\n",
              "      <th>slope</th>\n",
              "      <th>ca</th>\n",
              "      <th>thal</th>\n",
              "      <th>target</th>\n",
              "    </tr>\n",
              "  </thead>\n",
              "  <tbody>\n",
              "    <tr>\n",
              "      <th>0</th>\n",
              "      <td>63</td>\n",
              "      <td>1</td>\n",
              "      <td>3</td>\n",
              "      <td>145</td>\n",
              "      <td>233</td>\n",
              "      <td>1</td>\n",
              "      <td>0</td>\n",
              "      <td>150</td>\n",
              "      <td>0</td>\n",
              "      <td>2.3</td>\n",
              "      <td>0</td>\n",
              "      <td>0</td>\n",
              "      <td>1</td>\n",
              "      <td>1</td>\n",
              "    </tr>\n",
              "    <tr>\n",
              "      <th>1</th>\n",
              "      <td>37</td>\n",
              "      <td>1</td>\n",
              "      <td>2</td>\n",
              "      <td>130</td>\n",
              "      <td>250</td>\n",
              "      <td>0</td>\n",
              "      <td>1</td>\n",
              "      <td>187</td>\n",
              "      <td>0</td>\n",
              "      <td>3.5</td>\n",
              "      <td>0</td>\n",
              "      <td>0</td>\n",
              "      <td>2</td>\n",
              "      <td>1</td>\n",
              "    </tr>\n",
              "    <tr>\n",
              "      <th>2</th>\n",
              "      <td>41</td>\n",
              "      <td>0</td>\n",
              "      <td>1</td>\n",
              "      <td>130</td>\n",
              "      <td>204</td>\n",
              "      <td>0</td>\n",
              "      <td>0</td>\n",
              "      <td>172</td>\n",
              "      <td>0</td>\n",
              "      <td>1.4</td>\n",
              "      <td>2</td>\n",
              "      <td>0</td>\n",
              "      <td>2</td>\n",
              "      <td>1</td>\n",
              "    </tr>\n",
              "    <tr>\n",
              "      <th>3</th>\n",
              "      <td>56</td>\n",
              "      <td>1</td>\n",
              "      <td>1</td>\n",
              "      <td>120</td>\n",
              "      <td>236</td>\n",
              "      <td>0</td>\n",
              "      <td>1</td>\n",
              "      <td>178</td>\n",
              "      <td>0</td>\n",
              "      <td>0.8</td>\n",
              "      <td>2</td>\n",
              "      <td>0</td>\n",
              "      <td>2</td>\n",
              "      <td>1</td>\n",
              "    </tr>\n",
              "    <tr>\n",
              "      <th>4</th>\n",
              "      <td>57</td>\n",
              "      <td>0</td>\n",
              "      <td>0</td>\n",
              "      <td>120</td>\n",
              "      <td>354</td>\n",
              "      <td>0</td>\n",
              "      <td>1</td>\n",
              "      <td>163</td>\n",
              "      <td>1</td>\n",
              "      <td>0.6</td>\n",
              "      <td>2</td>\n",
              "      <td>0</td>\n",
              "      <td>2</td>\n",
              "      <td>1</td>\n",
              "    </tr>\n",
              "    <tr>\n",
              "      <th>5</th>\n",
              "      <td>57</td>\n",
              "      <td>1</td>\n",
              "      <td>0</td>\n",
              "      <td>140</td>\n",
              "      <td>192</td>\n",
              "      <td>0</td>\n",
              "      <td>1</td>\n",
              "      <td>148</td>\n",
              "      <td>0</td>\n",
              "      <td>0.4</td>\n",
              "      <td>1</td>\n",
              "      <td>0</td>\n",
              "      <td>1</td>\n",
              "      <td>1</td>\n",
              "    </tr>\n",
              "    <tr>\n",
              "      <th>6</th>\n",
              "      <td>56</td>\n",
              "      <td>0</td>\n",
              "      <td>1</td>\n",
              "      <td>140</td>\n",
              "      <td>294</td>\n",
              "      <td>0</td>\n",
              "      <td>0</td>\n",
              "      <td>153</td>\n",
              "      <td>0</td>\n",
              "      <td>1.3</td>\n",
              "      <td>1</td>\n",
              "      <td>0</td>\n",
              "      <td>2</td>\n",
              "      <td>1</td>\n",
              "    </tr>\n",
              "    <tr>\n",
              "      <th>7</th>\n",
              "      <td>44</td>\n",
              "      <td>1</td>\n",
              "      <td>1</td>\n",
              "      <td>120</td>\n",
              "      <td>263</td>\n",
              "      <td>0</td>\n",
              "      <td>1</td>\n",
              "      <td>173</td>\n",
              "      <td>0</td>\n",
              "      <td>0.0</td>\n",
              "      <td>2</td>\n",
              "      <td>0</td>\n",
              "      <td>3</td>\n",
              "      <td>1</td>\n",
              "    </tr>\n",
              "    <tr>\n",
              "      <th>8</th>\n",
              "      <td>52</td>\n",
              "      <td>1</td>\n",
              "      <td>2</td>\n",
              "      <td>172</td>\n",
              "      <td>199</td>\n",
              "      <td>1</td>\n",
              "      <td>1</td>\n",
              "      <td>162</td>\n",
              "      <td>0</td>\n",
              "      <td>0.5</td>\n",
              "      <td>2</td>\n",
              "      <td>0</td>\n",
              "      <td>3</td>\n",
              "      <td>1</td>\n",
              "    </tr>\n",
              "    <tr>\n",
              "      <th>9</th>\n",
              "      <td>57</td>\n",
              "      <td>1</td>\n",
              "      <td>2</td>\n",
              "      <td>150</td>\n",
              "      <td>168</td>\n",
              "      <td>0</td>\n",
              "      <td>1</td>\n",
              "      <td>174</td>\n",
              "      <td>0</td>\n",
              "      <td>1.6</td>\n",
              "      <td>2</td>\n",
              "      <td>0</td>\n",
              "      <td>2</td>\n",
              "      <td>1</td>\n",
              "    </tr>\n",
              "    <tr>\n",
              "      <th>10</th>\n",
              "      <td>54</td>\n",
              "      <td>1</td>\n",
              "      <td>0</td>\n",
              "      <td>140</td>\n",
              "      <td>239</td>\n",
              "      <td>0</td>\n",
              "      <td>1</td>\n",
              "      <td>160</td>\n",
              "      <td>0</td>\n",
              "      <td>1.2</td>\n",
              "      <td>2</td>\n",
              "      <td>0</td>\n",
              "      <td>2</td>\n",
              "      <td>1</td>\n",
              "    </tr>\n",
              "    <tr>\n",
              "      <th>11</th>\n",
              "      <td>48</td>\n",
              "      <td>0</td>\n",
              "      <td>2</td>\n",
              "      <td>130</td>\n",
              "      <td>275</td>\n",
              "      <td>0</td>\n",
              "      <td>1</td>\n",
              "      <td>139</td>\n",
              "      <td>0</td>\n",
              "      <td>0.2</td>\n",
              "      <td>2</td>\n",
              "      <td>0</td>\n",
              "      <td>2</td>\n",
              "      <td>1</td>\n",
              "    </tr>\n",
              "    <tr>\n",
              "      <th>12</th>\n",
              "      <td>49</td>\n",
              "      <td>1</td>\n",
              "      <td>1</td>\n",
              "      <td>130</td>\n",
              "      <td>266</td>\n",
              "      <td>0</td>\n",
              "      <td>1</td>\n",
              "      <td>171</td>\n",
              "      <td>0</td>\n",
              "      <td>0.6</td>\n",
              "      <td>2</td>\n",
              "      <td>0</td>\n",
              "      <td>2</td>\n",
              "      <td>1</td>\n",
              "    </tr>\n",
              "    <tr>\n",
              "      <th>13</th>\n",
              "      <td>64</td>\n",
              "      <td>1</td>\n",
              "      <td>3</td>\n",
              "      <td>110</td>\n",
              "      <td>211</td>\n",
              "      <td>0</td>\n",
              "      <td>0</td>\n",
              "      <td>144</td>\n",
              "      <td>1</td>\n",
              "      <td>1.8</td>\n",
              "      <td>1</td>\n",
              "      <td>0</td>\n",
              "      <td>2</td>\n",
              "      <td>1</td>\n",
              "    </tr>\n",
              "    <tr>\n",
              "      <th>14</th>\n",
              "      <td>58</td>\n",
              "      <td>0</td>\n",
              "      <td>3</td>\n",
              "      <td>150</td>\n",
              "      <td>283</td>\n",
              "      <td>1</td>\n",
              "      <td>0</td>\n",
              "      <td>162</td>\n",
              "      <td>0</td>\n",
              "      <td>1.0</td>\n",
              "      <td>2</td>\n",
              "      <td>0</td>\n",
              "      <td>2</td>\n",
              "      <td>1</td>\n",
              "    </tr>\n",
              "    <tr>\n",
              "      <th>15</th>\n",
              "      <td>50</td>\n",
              "      <td>0</td>\n",
              "      <td>2</td>\n",
              "      <td>120</td>\n",
              "      <td>219</td>\n",
              "      <td>0</td>\n",
              "      <td>1</td>\n",
              "      <td>158</td>\n",
              "      <td>0</td>\n",
              "      <td>1.6</td>\n",
              "      <td>1</td>\n",
              "      <td>0</td>\n",
              "      <td>2</td>\n",
              "      <td>1</td>\n",
              "    </tr>\n",
              "    <tr>\n",
              "      <th>16</th>\n",
              "      <td>58</td>\n",
              "      <td>0</td>\n",
              "      <td>2</td>\n",
              "      <td>120</td>\n",
              "      <td>340</td>\n",
              "      <td>0</td>\n",
              "      <td>1</td>\n",
              "      <td>172</td>\n",
              "      <td>0</td>\n",
              "      <td>0.0</td>\n",
              "      <td>2</td>\n",
              "      <td>0</td>\n",
              "      <td>2</td>\n",
              "      <td>1</td>\n",
              "    </tr>\n",
              "    <tr>\n",
              "      <th>17</th>\n",
              "      <td>66</td>\n",
              "      <td>0</td>\n",
              "      <td>3</td>\n",
              "      <td>150</td>\n",
              "      <td>226</td>\n",
              "      <td>0</td>\n",
              "      <td>1</td>\n",
              "      <td>114</td>\n",
              "      <td>0</td>\n",
              "      <td>2.6</td>\n",
              "      <td>0</td>\n",
              "      <td>0</td>\n",
              "      <td>2</td>\n",
              "      <td>1</td>\n",
              "    </tr>\n",
              "    <tr>\n",
              "      <th>18</th>\n",
              "      <td>43</td>\n",
              "      <td>1</td>\n",
              "      <td>0</td>\n",
              "      <td>150</td>\n",
              "      <td>247</td>\n",
              "      <td>0</td>\n",
              "      <td>1</td>\n",
              "      <td>171</td>\n",
              "      <td>0</td>\n",
              "      <td>1.5</td>\n",
              "      <td>2</td>\n",
              "      <td>0</td>\n",
              "      <td>2</td>\n",
              "      <td>1</td>\n",
              "    </tr>\n",
              "    <tr>\n",
              "      <th>19</th>\n",
              "      <td>69</td>\n",
              "      <td>0</td>\n",
              "      <td>3</td>\n",
              "      <td>140</td>\n",
              "      <td>239</td>\n",
              "      <td>0</td>\n",
              "      <td>1</td>\n",
              "      <td>151</td>\n",
              "      <td>0</td>\n",
              "      <td>1.8</td>\n",
              "      <td>2</td>\n",
              "      <td>2</td>\n",
              "      <td>2</td>\n",
              "      <td>1</td>\n",
              "    </tr>\n",
              "  </tbody>\n",
              "</table>\n",
              "</div>"
            ],
            "text/plain": [
              "    age  sex  cp  trestbps  chol  fbs  ...  exang  oldpeak  slope  ca  thal  target\n",
              "0    63    1   3       145   233    1  ...      0      2.3      0   0     1       1\n",
              "1    37    1   2       130   250    0  ...      0      3.5      0   0     2       1\n",
              "2    41    0   1       130   204    0  ...      0      1.4      2   0     2       1\n",
              "3    56    1   1       120   236    0  ...      0      0.8      2   0     2       1\n",
              "4    57    0   0       120   354    0  ...      1      0.6      2   0     2       1\n",
              "5    57    1   0       140   192    0  ...      0      0.4      1   0     1       1\n",
              "6    56    0   1       140   294    0  ...      0      1.3      1   0     2       1\n",
              "7    44    1   1       120   263    0  ...      0      0.0      2   0     3       1\n",
              "8    52    1   2       172   199    1  ...      0      0.5      2   0     3       1\n",
              "9    57    1   2       150   168    0  ...      0      1.6      2   0     2       1\n",
              "10   54    1   0       140   239    0  ...      0      1.2      2   0     2       1\n",
              "11   48    0   2       130   275    0  ...      0      0.2      2   0     2       1\n",
              "12   49    1   1       130   266    0  ...      0      0.6      2   0     2       1\n",
              "13   64    1   3       110   211    0  ...      1      1.8      1   0     2       1\n",
              "14   58    0   3       150   283    1  ...      0      1.0      2   0     2       1\n",
              "15   50    0   2       120   219    0  ...      0      1.6      1   0     2       1\n",
              "16   58    0   2       120   340    0  ...      0      0.0      2   0     2       1\n",
              "17   66    0   3       150   226    0  ...      0      2.6      0   0     2       1\n",
              "18   43    1   0       150   247    0  ...      0      1.5      2   0     2       1\n",
              "19   69    0   3       140   239    0  ...      0      1.8      2   2     2       1\n",
              "\n",
              "[20 rows x 14 columns]"
            ]
          },
          "metadata": {},
          "execution_count": 78
        }
      ]
    },
    {
      "cell_type": "markdown",
      "metadata": {
        "id": "jRAwQ_Qcp2nF"
      },
      "source": [
        "**EDA for Distribution**"
      ]
    },
    {
      "cell_type": "code",
      "metadata": {
        "colab": {
          "base_uri": "https://localhost:8080/",
          "height": 388
        },
        "id": "8-uxZ6fNp5jd",
        "outputId": "7ba5a3b1-236b-45a5-9c78-d164e5b487ec"
      },
      "source": [
        "fig, axes = plt.subplots(1, 3, figsize=(18, 6), sharey=True)\n",
        "sns.histplot(data2, ax=axes[0], x=\"age\", kde=True, color='r' )\n",
        "sns.histplot(data2, ax=axes[1], x=\"chol\" , kde=True, color='b' )\n",
        "sns.histplot(data2, ax=axes[2], x=\"thalach\", kde=True)\n",
        "plt.show()"
      ],
      "execution_count": null,
      "outputs": [
        {
          "output_type": "display_data",
          "data": {
            "image/png": "[encoded data removed]",
            "text/plain": [
              "<Figure size 1296x432 with 3 Axes>"
            ]
          },
          "metadata": {
            "needs_background": "light"
          }
        }
      ]
    },
    {
      "cell_type": "code",
      "metadata": {
        "id": "BXY5CIGuqBj8"
      },
      "source": [
        "def prob_prior(df, Y):\n",
        "    label_kelas = sorted(list(df[ Y]. unique()))\n",
        "    prior = []\n",
        "    for i in label_kelas:\n",
        "        prior. append(len(df[ df[ Y] ==i]) /len(df))\n",
        "    return prior"
      ],
      "execution_count": null,
      "outputs": []
    },
    {
      "cell_type": "code",
      "metadata": {
        "id": "CETiN8j3qFOL"
      },
      "source": [
        "def likelihood_gaussian(df, nama_var, nilai_var, Y, label):\n",
        "    feat = list(df.columns)\n",
        "    df = df[df[Y] ==label]\n",
        "    mean, std = df[nama_var].mean(), df[nama_var].std()\n",
        "    p_x_dgsyrt_y = (1 / (np.sqrt(2 * np.pi) * std)) * np.exp(-((nilai_var-mean) **2 / (2* std**2)))\n",
        "    return p_x_dgsyrt_y"
      ],
      "execution_count": null,
      "outputs": []
    },
    {
      "cell_type": "code",
      "metadata": {
        "id": "QXs6F8LyqIWU"
      },
      "source": [
        "def naive_bayes_gaussian(df, X, Y):\n",
        "    # mengambil nama kolom\n",
        "    nama_kolom = list(df.columns)[:-1]\n",
        " \n",
        "    # menghitung prob prior\n",
        "    prior = prob_prior(df, Y)\n",
        " \n",
        "    Y_pred = []\n",
        "    # lopping pada setiap baris data\n",
        "    for x in X:\n",
        "        # menghitung likelihood\n",
        "        labels = sorted(list(df[Y]. unique()))\n",
        "        likelihood = [1] *len(labels)\n",
        "        for j in range(len(labels)):\n",
        "           for i in range(len(nama_kolom)):\n",
        "                likelihood[j] *= likelihood_gaussian(df, nama_kolom[i], x[i], Y, labels[j])\n",
        " \n",
        "        # menghitung posterior probability\n",
        "        post_prob = [1] *len(labels)\n",
        "        for j in range(len(labels)):\n",
        "            post_prob[j] = likelihood[j] * prior[j]\n",
        "\n",
        "        Y_pred.append(np.argmax(post_prob))\n",
        "        return np.array(Y_pred)"
      ],
      "execution_count": null,
      "outputs": []
    },
    {
      "cell_type": "code",
      "metadata": {
        "id": "GB2d3ZANq6pk"
      },
      "source": [
        "train, test = train_test_split(data2, test_size=.3, random_state=41)\n",
        "X_test = test.iloc[:,:-1].values\n",
        "Y_test = test.iloc[:,-1].values\n",
        "Y_pred = naive_bayes_categorical(train, X=X_test, Y=\"sex\")"
      ],
      "execution_count": null,
      "outputs": []
    },
    {
      "cell_type": "code",
      "metadata": {
        "id": "RwQIe5O5q-IM",
        "colab": {
          "base_uri": "https://localhost:8080/"
        },
        "outputId": "b28cf398-2ebc-4ac7-a40c-59dee3db6598"
      },
      "source": [
        "print(accuracy_score(Y_test, Y_pred))"
      ],
      "execution_count": null,
      "outputs": [
        {
          "output_type": "stream",
          "name": "stdout",
          "text": [
            "0.4725274725274725\n"
          ]
        }
      ]
    }
  ]
}